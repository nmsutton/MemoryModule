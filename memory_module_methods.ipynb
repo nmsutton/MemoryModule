{
 "cells": [
  {
   "cell_type": "markdown",
   "metadata": {},
   "source": [
    "<div style='font-size:2.3em;font-weight:bold'><center>Memory Module: Methods</center></div><br>"
   ]
  },
  {
   "cell_type": "markdown",
   "metadata": {},
   "source": [
    "First Stage Goal: Simulate to a partial extent neural activity involved in memory processes.  Specifically, create a neural network that recreates the spiking activity recorded from in vivo rats.\n",
    "\n",
    "Collecting recordings:  Hippocampus rat recordings were extracted from open access data <a target=\"_blank\" href='http://crcns.org/data-sets/hc/hc-3'>here</a>.  Existing code for importing the data was converted to octave and the octave commands used were as follows:\n",
    "[T,G,Map,Par]=LoadCluRes('ec013.156',{Electrode});"
   ]
  },
  {
   "cell_type": "code",
   "execution_count": null,
   "metadata": {
    "collapsed": true
   },
   "outputs": [],
   "source": []
  }
 ],
 "metadata": {
  "kernelspec": {
   "display_name": "Python 3",
   "language": "python",
   "name": "python3"
  },
  "language_info": {
   "codemirror_mode": {
    "name": "ipython",
    "version": 3
   },
   "file_extension": ".py",
   "mimetype": "text/x-python",
   "name": "python",
   "nbconvert_exporter": "python",
   "pygments_lexer": "ipython3",
   "version": "3.4.3"
  }
 },
 "nbformat": 4,
 "nbformat_minor": 0
}

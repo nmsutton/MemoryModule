{
 "cells": [
  {
   "cell_type": "markdown",
   "metadata": {},
   "source": [
    "<div style='font-size:2.3em;font-weight:bold'><center>Memory Module: Methods</center></div><br>"
   ]
  },
  {
   "cell_type": "markdown",
   "metadata": {},
   "source": [
    "First Stage Goal: Simulate to a partial extent neural activity involved in memory processes.  Specifically, create a neural network that recreates the spiking activity recorded from in vivo rats."
   ]
  },
  {
   "cell_type": "markdown",
   "metadata": {
    "collapsed": true
   },
   "source": [
    "Collecting recordings:  Hippocampus rat recordings were extracted from open access data <a target=\"_blank\" href='http://crcns.org/data-sets/hc/hc-3'>here</a>.  Existing code for importing the data was converted to octave and the octave commands used were as follows:\n",
    "<br>[T,G,Map,Par]=LoadCluRes({File},{Electrode});\n",
    "<br>Where {File} = base data file, {Electrode} = recording probe number, T = spike times, G = cluster representing putitive neuron\n",
    "<br>Examples of use are in code below."
   ]
  },
  {
   "cell_type": "markdown",
   "metadata": {},
   "source": [
    "1.) Numbers of putitive neurons were found with neuron_counts.m .  Example output is in example_analyses.ipynb ."
   ]
  },
  {
   "cell_type": "markdown",
   "metadata": {},
   "source": [
    "2.) Amounts of spikes for given time ranges were found using count_spikes.m , spiking from all electrodes in a dataset section were found with elect_spikes.m ."
   ]
  },
  {
   "cell_type": "markdown",
   "metadata": {},
   "source": [
    "3.) Which brain region the parts of the data were derived from were found using the /hc-3/hc3-metadata-tables/hc3-tables.xlsx document.\n",
    "<br>For example (e1 = electrode 1):\n",
    "<br>topdir     |  animal  |  e1 |  e2  |  e3  |  e4\n",
    "<br>ec012ec.11 |  ec012   |  EC3  |  EC3  |  EC5  |  EC5"
   ]
  },
  {
   "cell_type": "markdown",
   "metadata": {},
   "source": [
    "From the 3 steps above spike rates of neurons and info. about brain region included for the neurons was gathered."
   ]
  },
  {
   "cell_type": "markdown",
   "metadata": {},
   "source": [
    "Izhikevich neurons were used along with example values reported for pyramidal neurons.  That neuron type comprised the main portion of the data used here."
   ]
  },
  {
   "cell_type": "markdown",
   "metadata": {},
   "source": [
    "The neuron spiking rates were normalized to create each representitive group containing the same estimated \n",
    "number of neurons.  For example the most neurons per a brain regoin recorded were 30 and due to that brain\n",
    "regions with less than 30 had their spike rates multiplied to increase the representitve rate to 30 neurons.\n",
    "This allowed for a more straitforward mathmatical way to connect neural net layers representing regions."
   ]
  },
  {
   "cell_type": "code",
   "execution_count": null,
   "metadata": {
    "collapsed": true
   },
   "outputs": [],
   "source": []
  }
 ],
 "metadata": {
  "kernelspec": {
   "display_name": "Python 3",
   "language": "python",
   "name": "python3"
  },
  "language_info": {
   "codemirror_mode": {
    "name": "ipython",
    "version": 3
   },
   "file_extension": ".py",
   "mimetype": "text/x-python",
   "name": "python",
   "nbconvert_exporter": "python",
   "pygments_lexer": "ipython3",
   "version": "3.4.3"
  }
 },
 "nbformat": 4,
 "nbformat_minor": 0
}

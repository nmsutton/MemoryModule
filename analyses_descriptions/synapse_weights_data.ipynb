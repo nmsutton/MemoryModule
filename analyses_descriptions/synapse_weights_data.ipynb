{
 "cells": [
  {
   "cell_type": "markdown",
   "metadata": {},
   "source": [
    "#Datasets Created for Predicting Synapse Weights#\n",
    "\n",
    "\n",
    "Tool\n",
    "http://www.xuru.org/rt/MLR.asp\n",
    "\n",
    "##Layers EC3 -> EC5##\n",
    "\n",
    "<br>1.4917 582.5 50.0\n",
    "<br>2.2081 332.5 80.0\n",
    "<br>2.2081 500 80.0\n",
    "<br>0.6152 250 40.0\n",
    "<br>0.3024 167.5 30.0\n",
    "<br>0.3024 667.5 30.0\n",
    "\n",
    "Regression fit:\n",
    "\n",
    "$y = 25.52143243 * x1 - 1.057133539*10^{-2} * x2 + 25.75235337$\n",
    "\n",
    "##Layers EC5 -> CA1##\n",
    "\n",
    "<br>6.8897 865 180.0\n",
    "<br>4.6546 725 170.0\n",
    "<br>1.6016 1090 170.0\n",
    "<br>5.748 150 100.0\n",
    "<br>5.748 45 100.0\n",
    "<br>7.6722 200 115.0\n",
    "\n",
    "Regression fit:\n",
    "\n",
    "$y = 5.128145363 * x1 + 9.81585591*10^{-2} * x2 + 61.24183811$"
   ]
  },
  {
   "cell_type": "code",
   "execution_count": null,
   "metadata": {
    "collapsed": true
   },
   "outputs": [],
   "source": []
  }
 ],
 "metadata": {
  "kernelspec": {
   "display_name": "Python 3",
   "language": "python",
   "name": "python3"
  },
  "language_info": {
   "codemirror_mode": {
    "name": "ipython",
    "version": 3
   },
   "file_extension": ".py",
   "mimetype": "text/x-python",
   "name": "python",
   "nbconvert_exporter": "python",
   "pygments_lexer": "ipython3",
   "version": "3.4.3"
  }
 },
 "nbformat": 4,
 "nbformat_minor": 0
}

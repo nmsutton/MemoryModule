{
 "cells": [
  {
   "cell_type": "markdown",
   "metadata": {},
   "source": [
    "<center><font size=+2><b>Explanations of Calculations Used to Create Scoring and Results Goals</b></font></center>"
   ]
  },
  {
   "cell_type": "markdown",
   "metadata": {},
   "source": [
    "#Observed Results and Expected Results Difference#\n",
    "\n",
    "EC3->EC5 feedforward layers spiking\n",
    "<br>1872/1919.25 = <b>97.54% accuracy</b>\n",
    "\n",
    "EC5->CA1 feedforward layers spiking\n",
    "<br>7948/8985.894 = <b>88.45% accuracy</b>\n",
    "\n",
    "Overall accuracy\n",
    "<br>97.54% \\* 88.45% = <b>86.27%</b>\n",
    "<br>\n",
    "<br><a href='#finalcalcs'>Last scoring calculations in more detail</a>\n",
    "<br>\n",
    "<br><a href='#randomness'>Randomness effecting results in more detail</a>"
   ]
  },
  {
   "cell_type": "markdown",
   "metadata": {
    "collapsed": true
   },
   "source": [
    "#Methods of Calculating Expected Results#\n",
    "<br>\n",
    "<br>~ Included below are revised calculations incorperating a neuron group size scaling \n",
    "<br>correction found on 03/03/16 that has been corrected for in the simulation. ~\n",
    "<br>\n",
    "##Extracting Individual Neuron Firing Counts##\n",
    "<br>\n",
    "<b>Octave command</b>\n",
    "<br>2000000ms were sampled and spike amounts were found:\n",
    "<br>>> elect_spikes('ec013.156',8,2000000)\n",
    "<br>ans =  3126   5935   6275   2273   6815   2345   2504      0\n",
    "<br>Counts of neurons in the layers were extracted:\n",
    "<br>>> neuron_counts('ec013.156',8,2000000)\n",
    "<br>ans = 15   14   10   13    5    5    4    1\n",
    "<br>\n",
    "####Firing counts divided by numbers of neurons produced firing amount per neuron####\n",
    "<br>EC3 = 22 neurons\n",
    "<br>(3126/15) = 208.4\n",
    "<br>(5935/2) / (14/2) = 423.9285714285714\n",
    "<br>EC5 = 30 neurons\n",
    "<br>(5935/2) / (14/2) = 423.9285714285714\n",
    "<br>(6275 / 10) = 627.5\n",
    "<br>(2273 / 13) = 174.8461538461538\n",
    "<br>CA1 =14 neurons\n",
    "<br>(6815 / 5) = 1363\n",
    "<br>(2345 / 5) = 469\n",
    "<br>(2504 / 4) = 626\n",
    "<br>\n",
    "<br>All groups were normalized with adjustments to make them have the equivalent counts of 30 neurons per layer.\n",
    "<br>Additionally groups were split up whenever a firing rate change was found with the equivalent number of neurons in the next layer"
   ]
  },
  {
   "cell_type": "markdown",
   "metadata": {},
   "source": [
    "#INDIVIDUAL RATIOS#\n",
    "\n",
    "Found from experiment recordings\n",
    "\n",
    "The lay_number_neuron_firing represents the amount of firing in the selected time period (2000 seconds) per neuron in the group of the layer.\n",
    "\n",
    "lay_1->lay_2 neuron_number : lay_2_neuron_firing / lay_1_neuron_firing = firing_rate_ratio\n",
    "<br>\n",
    "<br>ec3->ec5 7 N: 423.9286 / 284.17424 = 1.491791092676099\n",
    "<br>ec3->ec5 10 N: 627.5 / 284.17424 = 2.208152294169943\n",
    "<br>ec3->ec5 3 N: 174.8462 / 284.17424  = 0.6152781476603931\n",
    "<br>ec3->ec5 10 N: 174.8462 / 578.0694 = 0.3024657593015648\n",
    "<br>ec5->ca1 7 N: 2920.7727 / 423.9286 = 6.889775070613306\n",
    "<br>ec5->ca1 4 N: 2920.7727 / 627.5 = 4.654617848605578\n",
    "<br>ec5->ca1 6 N: 1005.0201  / 627.5 = 1.601625657370518\n",
    "<br>ec5->ca1 5 N: 1005.0201  / 174.8462 = 5.748023691678744\n",
    "<br>ec5->ca1 8 N: 1341.4554  / 174.8462 = 7.672202198274827"
   ]
  },
  {
   "cell_type": "markdown",
   "metadata": {},
   "source": [
    "Additional splitting up of the groups was done to have an even number of groups (6) in each neuron layer, any difference in ratio across all 3 layers produced a subdivision in groups.\n",
    "<center>##Calculations Used to Find Total Neuron Firing Values##</center>\n",
    "<br>\n",
    "<style type=\"text/css\">\n",
    "\ttable.tableizer-table {\n",
    "\t\tfont-size: 14px;\n",
    "\t\tborder: 1px solid #CCC; \n",
    "\t\tfont-family: Arial, Helvetica, sans-serif;\n",
    "\t} \n",
    "\t.tableizer-table td {\n",
    "\t\tpadding: 4px;\n",
    "\t\tmargin: 3px;\n",
    "\t\tborder: 1px solid #CCC;\n",
    "\t}\n",
    "\t.tableizer-table th {\n",
    "\t\tbackground-color: #104E8B; \n",
    "\t\tcolor: #FFF;\n",
    "\t\tfont-weight: bold;\n",
    "\t}\n",
    "</style>\n",
    "<table class=\"tableizer-table\">\n",
    "<thead><tr class=\"tableizer-firstrow\"><th>Layer</th><th>Neurons_count</th><th>Size_conversion</th><th>Per_neuron_firing</th><th>Time_conversion</th><th>Adj_neuron_firing</th><th>Total_neuron_firing</th></tr></thead><tbody>\n",
    " <tr><td>ec3</td><td>7</td><td>16.6666666667</td><td>284.17424</td><td>0.01</td><td>2.8417424</td><td>331.5366133333</td></tr>\n",
    " <tr><td>ec3</td><td>4</td><td>16.6666666667</td><td>284.17424</td><td>0.01</td><td>2.8417424</td><td>189.4494933333</td></tr>\n",
    " <tr><td>ec3</td><td>6</td><td>16.6666666667</td><td>284.17424</td><td>0.01</td><td>2.8417424</td><td>284.17424</td></tr>\n",
    " <tr><td>ec3</td><td>3</td><td>16.6666666667</td><td>284.17424</td><td>0.01</td><td>2.8417424</td><td>142.08712</td></tr>\n",
    " <tr><td>ec3</td><td>2</td><td>16.6666666667</td><td>578.0694</td><td>0.01</td><td>5.780694</td><td>192.6898</td></tr>\n",
    " <tr><td>ec3</td><td>8</td><td>16.6666666667</td><td>578.0694</td><td>0.01</td><td>5.780694</td><td>770.7592</td></tr>\n",
    " <tr><td>ec5</td><td>7</td><td>16.6666666667</td><td>423.9286</td><td>0.01</td><td>4.239286</td><td>494.5833666667</td></tr>\n",
    " <tr><td>ec5</td><td>4</td><td>16.6666666667</td><td>627.5</td><td>0.01</td><td>6.275</td><td>418.3333333333</td></tr>\n",
    " <tr><td>ec5</td><td>6</td><td>16.6666666667</td><td>627.5</td><td>0.01</td><td>6.275</td><td>627.5</td></tr>\n",
    " <tr><td>ec5</td><td>3</td><td>16.6666666667</td><td>174.8462</td><td>0.01</td><td>1.748462</td><td>87.4231</td></tr>\n",
    " <tr><td>ec5</td><td>2</td><td>16.6666666667</td><td>174.8462</td><td>0.01</td><td>1.748462</td><td>58.2820666667</td></tr>\n",
    " <tr><td>ec5</td><td>8</td><td>16.6666666667</td><td>174.8462</td><td>0.01</td><td>1.748462</td><td>233.1282666667</td></tr>\n",
    " <tr><td>ca1</td><td>7</td><td>16.6666666667</td><td>2920.7727</td><td>0.01</td><td>29.207727</td><td>3407.56815</td></tr>\n",
    " <tr><td>ca1</td><td>4</td><td>16.6666666667</td><td>2920.7727</td><td>0.01</td><td>29.207727</td><td>1947.1818</td></tr>\n",
    " <tr><td>ca1</td><td>6</td><td>16.6666666667</td><td>1005.0201</td><td>0.01</td><td>10.050201</td><td>1005.0201</td></tr>\n",
    " <tr><td>ca1</td><td>3</td><td>16.6666666667</td><td>1005.0201</td><td>0.01</td><td>10.050201</td><td>502.51005</td></tr>\n",
    " <tr><td>ca1</td><td>2</td><td>16.6666666667</td><td>1005.0201</td><td>0.01</td><td>10.050201</td><td>335.0067</td></tr>\n",
    " <tr><td>ca1</td><td>8</td><td>16.6666666667</td><td>1341.4554</td><td>0.01</td><td>13.414554</td><td>1788.6072</td></tr>\n",
    "</tbody></table>"
   ]
  },
  {
   "cell_type": "markdown",
   "metadata": {},
   "source": [
    "<a href=\"#finalcalcs\"></a>\n",
    "<center>#Scoring Calculations in More Detail#</center>\n",
    "<style type=\"text/css\">\n",
    "\ttable.tableizer-table {\n",
    "\t\tfont-size: 14px;\n",
    "\t\tborder: 1px solid #CCC; \n",
    "\t\tfont-family: Arial, Helvetica, sans-serif;\n",
    "\t} \n",
    "\t.tableizer-table td {\n",
    "\t\tpadding: 4px;\n",
    "\t\tmargin: 3px;\n",
    "\t\tborder: 1px solid #CCC;\n",
    "\t}\n",
    "\t.tableizer-table th {\n",
    "\t\tbackground-color: #104E8B; \n",
    "\t\tcolor: #FFF;\n",
    "\t\tfont-weight: bold;\n",
    "\t}\n",
    "</style>\n",
    "<table class=\"tableizer-table\">\n",
    "<thead><tr class=\"tableizer-firstrow\"><th></th><th>Neuron numbers</th><th>Firing Observed</th><th>Firing Expected</th><th>Summed Firing Observed</th><th>Summed Firing Expected</th><th>Accuracy</th></tr></thead><tbody>\n",
    " <tr><td>ec3</td><td>116.5</td><td>351</td><td>331.5366133333</td><td>&nbsp;</td><td>&nbsp;</td><td>&nbsp;</td></tr>\n",
    " <tr><td>ec3</td><td>66.5</td><td>201</td><td>189.4494933333</td><td>&nbsp;</td><td>&nbsp;</td><td>&nbsp;</td></tr>\n",
    " <tr><td>ec3</td><td>100</td><td>300</td><td>284.17424</td><td>&nbsp;</td><td>&nbsp;</td><td>&nbsp;</td></tr>\n",
    " <tr><td>ec3</td><td>50</td><td>150</td><td>142.08712</td><td>&nbsp;</td><td>&nbsp;</td><td>&nbsp;</td></tr>\n",
    " <tr><td>ec3</td><td>33.5</td><td>204</td><td>192.6898</td><td>&nbsp;</td><td>&nbsp;</td><td>&nbsp;</td></tr>\n",
    " <tr><td>ec3</td><td>133.5</td><td>804</td><td>770.7592</td><td>2010</td><td>1910.6964666667</td><td> [not needed]</td></tr>\n",
    " <tr><td>ec5</td><td>116.5</td><td>468</td><td>494.5833666667</td><td>&nbsp;</td><td>&nbsp;</td><td>&nbsp;</td></tr>\n",
    " <tr><td>ec5</td><td>66.5</td><td>402</td><td>418.3333333333</td><td>&nbsp;</td><td>&nbsp;</td><td>&nbsp;</td></tr>\n",
    " <tr><td>ec5</td><td>100</td><td>600</td><td>627.5</td><td>&nbsp;</td><td>&nbsp;</td><td>&nbsp;</td></tr>\n",
    " <tr><td>ec5</td><td>50</td><td>100</td><td>87.4231</td><td>&nbsp;</td><td>&nbsp;</td><td>&nbsp;</td></tr>\n",
    " <tr><td>ec5</td><td>33.5</td><td>34</td><td>58.2820666667</td><td>&nbsp;</td><td>&nbsp;</td><td>&nbsp;</td></tr>\n",
    " <tr><td>ec5</td><td>133.5</td><td>268</td><td>233.1282666667</td><td>1872</td><td>1919.2501333333</td><td>0.9753809404</td></tr>\n",
    " <tr><td>ca1</td><td>116.5</td><td>2691</td><td>3407.56815</td><td>&nbsp;</td><td>&nbsp;</td><td>&nbsp;</td></tr>\n",
    " <tr><td>ca1</td><td>66.5</td><td>1675</td><td>1947.1818</td><td>&nbsp;</td><td>&nbsp;</td><td>&nbsp;</td></tr>\n",
    " <tr><td>ca1</td><td>100</td><td>1000</td><td>1005.0201</td><td>&nbsp;</td><td>&nbsp;</td><td>&nbsp;</td></tr>\n",
    " <tr><td>ca1</td><td>50</td><td>500</td><td>502.51005</td><td>&nbsp;</td><td>&nbsp;</td><td>&nbsp;</td></tr>\n",
    " <tr><td>ca1</td><td>33.5</td><td>340</td><td>335.0067</td><td>&nbsp;</td><td>&nbsp;</td><td>&nbsp;</td></tr>\n",
    " <tr><td>ca1</td><td>133.5</td><td>1742</td><td>1788.6072</td><td>7948</td><td>8985.894</td><td>0.8844974134</td></tr>\n",
    " <tr><td>&nbsp;</td><td>&nbsp;</td><td>&nbsp;</td><td>&nbsp;</td><td>total accuracy</td><td>(EC5*CA1)</td><td>0.8627219189</td></tr>\n",
    "</tbody></table>\n",
    "<br>\n",
    "Generated by: http://tableizer.journalistopia.com/tableizer.php\n",
    "</center>"
   ]
  },
  {
   "cell_type": "markdown",
   "metadata": {
    "collapsed": true
   },
   "source": [
    "<a href=\"#randomness\"></a>\n",
    "<center>##Randomness Creating Different Results##</center>\n",
    "<br>\n",
    "The firing rates produced by the neurons appear likely to be produced by a probability distribution because upon repeated runs the results reported are what seems to be the most common ones but variations in those rates occurs in a somewhat predictable manner.  An investigation is occuring into sources of the randomness but it could be assumed that the randomness is added to CARLSim for realism and accounts for variations observed in real neurons.  Where neurons in this simulation do not always fire consistantly, neurons in a brain similarly have variation in the output.\n",
    "<br>\n",
    "<br>Synapses have fixed values currently, in the future it could be added that either learning or simply adjusting to the randomness could compensate for the varitaion.  The fixed values are based on the fitted models with the goal of achiving most often the highest accuracy of firing results corresopnding to the experimentally derived values."
   ]
  },
  {
   "cell_type": "code",
   "execution_count": null,
   "metadata": {
    "collapsed": true
   },
   "outputs": [],
   "source": []
  }
 ],
 "metadata": {
  "kernelspec": {
   "display_name": "Python 2",
   "language": "python",
   "name": "python2"
  },
  "language_info": {
   "codemirror_mode": {
    "name": "ipython",
    "version": 2
   },
   "file_extension": ".py",
   "mimetype": "text/x-python",
   "name": "python",
   "nbconvert_exporter": "python",
   "pygments_lexer": "ipython2",
   "version": "2.7.11"
  }
 },
 "nbformat": 4,
 "nbformat_minor": 0
}

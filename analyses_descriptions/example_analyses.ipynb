{
 "cells": [
  {
   "cell_type": "markdown",
   "metadata": {},
   "source": [
    "#Example analysis results#\n",
    "\n",
    "## Count results ##\n",
    "<br>elect_spikes('ec013.156',8,2000000)\n",
    "<br>ans =  3126   5935   6275   2273   6815   2345   2504      0\n",
    "<br>EC3 = (3126 + (5935/2)) / 2 = 3046\n",
    "<br>EC5 = ((5935/2) + 6275 + 2273) / 3 = 3838\n",
    "<br>CA1 = (6815 + 2345 + 2504) / 3 = 3888\n",
    "\n",
    "## Neuron counts ##\n",
    "<br>neuron_counts('ec013.156',8,2000000)\n",
    "<br>ans = 15   14   10   13    5    5    4    1"
   ]
  },
  {
   "cell_type": "markdown",
   "metadata": {},
   "source": [
    "## All Elect. Neuron counts ##\n",
    "\n",
    "<br>elect_spikes('ec013.156',8,2000000)\n",
    "<br>ans =  3126   5935   6275   2273   6815   2345   2504      0\n",
    "<br>EC3 = 22 neurons\n",
    "<br>(3126/15) = 208.4\n",
    "<br>(5935/2) / (14/2) = 423.9285714285714\n",
    "<br>EC5 = 30 neurons\n",
    "<br>(5935/2) / (14/2) = 423.9285714285714\n",
    "<br>(6275 / 10) = 627.5\n",
    "<br>(2273 / 13) = 174.8461538461538\n",
    "<br>CA1 = 14 neurons\n",
    "<br>(6815 / 5) = 1363\n",
    "<br>(2345 / 5) = 469\n",
    "<br>(2504 / 4) = 626"
   ]
  },
  {
   "cell_type": "code",
   "execution_count": null,
   "metadata": {
    "collapsed": true
   },
   "outputs": [],
   "source": []
  }
 ],
 "metadata": {
  "kernelspec": {
   "display_name": "Python 2",
   "language": "python",
   "name": "python2"
  },
  "language_info": {
   "codemirror_mode": {
    "name": "ipython",
    "version": 2
   },
   "file_extension": ".py",
   "mimetype": "text/x-python",
   "name": "python",
   "nbconvert_exporter": "python",
   "pygments_lexer": "ipython2",
   "version": "2.7.11"
  }
 },
 "nbformat": 4,
 "nbformat_minor": 0
}

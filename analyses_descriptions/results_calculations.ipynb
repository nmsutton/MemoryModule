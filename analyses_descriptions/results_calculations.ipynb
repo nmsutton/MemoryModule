{
 "cells": [
  {
   "cell_type": "markdown",
   "metadata": {},
   "source": [
    "#INDIVIDUAL RATIOS#\n",
    "\n",
    "Found from experiment recordings\n",
    "\n",
    "lay_1->lay_2 #_neurons : lay_2_neurons / lay_1_neurons = firing_rate_ratio\n",
    "\n",
    "ec3->ec5 7 N: 423.9286 / 284.17424 = 1.491791092676099\n",
    "\n",
    "ec3->ec5 10 N: 627.5 / 284.17424 = 2.208152294169943\n",
    "\n",
    "ec3->ec5 3 N: 174.8462 / 284.17424  = 0.6152781476603931\n",
    "\n",
    "ec3->ec5 10 N: 174.8462 / 578.0694 = 0.3024657593015648\n",
    "\n",
    "ec5->ca1 7 N: 2920.7727 / 423.9286 = 6.889775070613306\n",
    "\n",
    "ec5->ca1 4 N: 2920.7727 / 627.5 = 4.654617848605578\n",
    "\n",
    "ec5->ca1 6 N: 1005.0201  / 627.5 = 1.601625657370518\n",
    "\n",
    "ec5->ca1 5 N: 1005.0201  / 174.8462 = 5.748023691678744\n",
    "\n",
    "ec5->ca1 8 N: 1341.4554  / 174.8462 = 7.672202198274827"
   ]
  },
  {
   "cell_type": "raw",
   "metadata": {},
   "source": [
    "\tobserved expected observed expected\t   accuracy\n",
    "ec3\t6084\t5517.72\t  32496\t   32263\t   <not needed>\n",
    "\t3484\t3149.6\t\t\t\n",
    "\t5101\t4736.24\t\t\t\n",
    "\t2600\t2368.12\t\t\t\n",
    "\t3468\t3227.55\t\t\t\n",
    "\t11526\t12862\t\t\t\n",
    "ec5\t9009\t8231.28\t  32803\t   31967.975   0.974544249\n",
    "\t7102\t6954.79\t\t\t\n",
    "\t10300\t10458.3\t\t\t\n",
    "\t1350\t1457.05\t\t\t\n",
    "\t1156\t976.225\t\t\t\n",
    "\t3886\t3890.33\t\t\t\n",
    "ca1\t58970\t56711.7\t  155615   149667.83   0.9617827973\n",
    "\t34778\t32371.9\t\t\t\n",
    "\t16700\t16750.3\t\t\t\n",
    "\t8551\t8375.17\t\t\t\n",
    "\t5780\t5611.36\t\t\t\n",
    "\t30836\t29847.4\t\t\t\n",
    "                               total accur 0.9372998939 (ec5*ca1)"
   ]
  },
  {
   "cell_type": "markdown",
   "metadata": {},
   "source": [
    "#Observed Results and Expected Results Difference#\n",
    "\n",
    "EC3->EC5 feedforward layers spiking\n",
    "<br>32803/31967.975 = <b>97.45% accuracy</b>\n",
    "\n",
    "EC5->CA1 feedforward layers spiking\n",
    "<br>155615/149667.83 = <b>96.18% accuracy</b>\n",
    "\n",
    "Overall accuracy\n",
    "<br>97.45% \\* 96.18% = <b>93.73%</b>"
   ]
  },
  {
   "cell_type": "code",
   "execution_count": null,
   "metadata": {
    "collapsed": true
   },
   "outputs": [],
   "source": []
  }
 ],
 "metadata": {
  "kernelspec": {
   "display_name": "Python 2",
   "language": "python",
   "name": "python2"
  },
  "language_info": {
   "codemirror_mode": {
    "name": "ipython",
    "version": 2
   },
   "file_extension": ".py",
   "mimetype": "text/x-python",
   "name": "python",
   "nbconvert_exporter": "python",
   "pygments_lexer": "ipython2",
   "version": "2.7.11"
  }
 },
 "nbformat": 4,
 "nbformat_minor": 0
}

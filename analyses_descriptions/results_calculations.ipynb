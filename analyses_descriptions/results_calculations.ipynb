{
 "cells": [
  {
   "cell_type": "markdown",
   "metadata": {},
   "source": [
    "#INDIVIDUAL RATIOS#\n",
    "\n",
    "Found from experiment recordings\n",
    "\n",
    "lay_1->lay_2 #_neurons : lay_2_neurons / lay_1_neurons = firing_rate_ratio\n",
    "\n",
    "ec3->ec5 7 N: 423.9286 / 284.17424 = 1.491791092676099\n",
    "\n",
    "ec3->ec5 10 N: 627.5 / 284.17424 = 2.208152294169943\n",
    "\n",
    "ec3->ec5 3 N: 174.8462 / 284.17424  = 0.6152781476603931\n",
    "\n",
    "ec3->ec5 10 N: 174.8462 / 578.0694 = 0.3024657593015648\n",
    "\n",
    "ec5->ca1 7 N: 2920.7727 / 423.9286 = 6.889775070613306\n",
    "\n",
    "ec5->ca1 4 N: 2920.7727 / 627.5 = 4.654617848605578\n",
    "\n",
    "ec5->ca1 6 N: 1005.0201  / 627.5 = 1.601625657370518\n",
    "\n",
    "ec5->ca1 5 N: 1005.0201  / 174.8462 = 5.748023691678744\n",
    "\n",
    "ec5->ca1 8 N: 1341.4554  / 174.8462 = 7.672202198274827"
   ]
  },
  {
   "cell_type": "markdown",
   "metadata": {},
   "source": [
    "#Expected Firing Rates#\n",
    "\n",
    "Calculations below are (EC3_to_EC5_layer_ratio $*$ EC3_firing_rate)\n",
    "\n",
    "$(1.4917 * 582.5)+(2.2081 * 332.5)+(2.2081 * 500)+(0.6152 * 250)+(0.3024 * 167.5)+(0.3024 * 667.5)$\n",
    "\n",
    "\n",
    "= 3113.4625\n",
    "\n",
    "Calculations below are (EC5_to_CA1_layer_ratio $*$ (EC3_to_EC5_layer_ratio $*$ EC3_firing_rate))\n",
    "\n",
    "$(6.8897 * (1.4917 * 582.5))+(4.6546 * (2.2081 * 332.5))+(1.6016 * (2.2081 * 500))+(5.748 * (0.6152 * 250))+(5.748 * (0.3024 * 167.5))+(7.6722 * (0.3024 * 667.5))$\n",
    "\n",
    "= 13896.026789775"
   ]
  },
  {
   "cell_type": "markdown",
   "metadata": {},
   "source": [
    "#Observed Results and Expected Results Difference#\n",
    "\n",
    "EC3->EC5 feedforward layers spiking\n",
    "<br>3075/3113.4625 = <b>98.77% accuracy</b>\n",
    "\n",
    "EC5->CA1 feedforward layers spiking\n",
    "<br>12688/13896.0268 = <b>91% accuracy</b>\n",
    "\n",
    "Overall accuracy\n",
    "<br>98.77% \\* 91% = <b>90%</b>"
   ]
  },
  {
   "cell_type": "code",
   "execution_count": null,
   "metadata": {
    "collapsed": true
   },
   "outputs": [],
   "source": []
  }
 ],
 "metadata": {
  "kernelspec": {
   "display_name": "Python 3",
   "language": "python",
   "name": "python3"
  },
  "language_info": {
   "codemirror_mode": {
    "name": "ipython",
    "version": 3
   },
   "file_extension": ".py",
   "mimetype": "text/x-python",
   "name": "python",
   "nbconvert_exporter": "python",
   "pygments_lexer": "ipython3",
   "version": "3.4.3"
  }
 },
 "nbformat": 4,
 "nbformat_minor": 0
}

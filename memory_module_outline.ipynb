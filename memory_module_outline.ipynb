{
 "cells": [
  {
   "cell_type": "markdown",
   "metadata": {},
   "source": [
    "<div style='font-size:2.3em;font-weight:bold'><center>Memory Module: Hippocampus Neural Network Simulation</center></div><br>"
   ]
  },
  {
   "cell_type": "markdown",
   "metadata": {},
   "source": [
    "<div style='font-size:1.5em;'>This is an open source project.  Contributers welcome, contact <a target=\"_blank\" href=\"http://nmsutton.heroku.com\">Nate</a> if interested.</div>\n",
    "<br>\n",
    "<div style='font-size:2em;text-decoration:underline;font-weight:bold'>Research Proposal:</div>\n",
    "<br>\n",
    "<div style='font-size:1.5em;'>\n",
    "<br><b>Introduction (Prior Work):</b>\n",
    "<br>Based on the article \"Hippocampal network dynamics constrain the time lag between\n",
    "pyramidal cells across modified environments\" by Diba and Buzsáki: <a target=\"_blank\" href=\"http://www.ncbi.nlm.nih.gov/pubmed/19074018\">Article</a>. \n",
    "<br>Electrophysiology data availible openly <a target=\"_blank\" href='http://crcns.org/data-sets/hc/hc-3'>here</a>.\n",
    "<br>\n",
    "<br><b>Methods:</b>\n",
    "<br>Currently: C++ and <a href=\"http://www.socsci.uci.edu/~jkrichma/CARLsim/\">CARLSim</a>\n",
    "<br><br>Previously: Python and <a href=\"http://www.nest-simulator.org/\">NEST</a>\n",
    "<ul><li><font color=red>Details:</font>  To utilize newer GPU computing advances <a href=\"http://www.socsci.uci.edu/~jkrichma/CARLsim/\">CARLSim</a> was chosen to be used.  Articles such as <a href=\"http://www.ics.uci.edu/~jmoorkan/pub/gpusnn-ijcnn.pdf\">\"Efficient Simulation of Large-Scale Spiking Neural Networks Using CUDA Graphics Processors\"</a> motivated the adoption of <a href=\"http://www.socsci.uci.edu/~jkrichma/CARLsim/\">CARLSim</a> into the project.\n",
    "<br><br>Previously I used <a href=\"http://www.nest-simulator.org/\">NEST</a> after also trying <a href=\"https://www.neuron.yale.edu/neuron/\">NEURON</a> in part due to performance gains found from <a href=\"journal.frontiersin.org/article/10.3389/fninf.2014.00076/\">\"Limits to high-speed simulations of spiking neural networks using general-purpose computers\"</a>.  \n",
    "</li></ul>\n",
    "<br>Izhikevich neurons\n",
    "<ul><li><font color=red>Update:</font>  Now using parameters for the neurons from <a href=\"f1000research.com/articles/3-104/v1\">\"Simple, biologically-constrained CA1 pyramidal cell models using an intact, whole hippocampus context\"</a>\n",
    "</li></ul>\n",
    "<br>Spiking Neural Network\n",
    "<br>Reinforcement Learning\n",
    "<ul><li>Specifically the neural activity occuring during behavior tasks recorded with the rats will be modeled with reinforcement learning.\n",
    "</li></ul>\n",
    "<br>STDP\n",
    "<br>Oscillation Codes\n",
    "<br>\n",
    "<br><b>Results (Goal):</b>\n",
    "<br>This inital work aims to capture some meaningful elements of neural activity in the hippocampus, not to represent itself as a complete hippocampus simulation.  An objective is from model neurons of the relevant type to train the network to have similar behavior experimentally reported.\n",
    "<br><ul><li>Input:\n",
    "<br>Simulated sensory input representing position of mice\n",
    "</li><br>\n",
    "<br><li>Output:\n",
    "<br>Have network trained to create results reported in article.  See key points below for some examples of areas to further research that the trained model will work on representing.\n",
    "</li></ul>\n",
    "<br><b>Discussion:</b>\n",
    "<br>This work is intended to be created in a way that can be extended into bigger and more complex simulations.  More experimental data can be used and the simulation can be modified to match it.  The code can integrate into other researcher's systems.\n",
    "<br>\n",
    "<br><b>Future Work:</b>\n",
    "<br>GPU computing using CUDA\n",
    "<br>Larger neural net based on smaller one here\n",
    "<br>Modularize the simulation to be included in larger systems\n",
    "</div>"
   ]
  },
  {
   "cell_type": "markdown",
   "metadata": {},
   "source": [
    "<div style='font-size:1.5em;'>\n",
    "<div style='font-size:2em;text-decoration:underline;font-weight:bold'><hr></div>\n",
    "<br>Some key areas to work on:\n",
    "<br><ul><li>\"Within a single theta cycle, the relative timing of neuronal spikes reflects the upcoming\n",
    "sequence of locations in the path of the rat, with larger time lags representing larger distances\"\n",
    "</li><br><li>    \"As further\n",
    "support, context (i.e. track length) also affected the degree of spatial and temporal overlap of\n",
    "place fields, resulting in increased co-firing among cells during each theta cycle and increased\n",
    "overall firing in the pyramidal population on the short track, relative to the long. Interestingly,\n",
    "this change in activity resulted in decreased power and coherence in the theta-band of local\n",
    "fields measured from CA1 and CA3 regions.\"\n",
    "</li><br><li>    \"Although in this equidistant dataset the sequence compression\n",
    "correlations between time lag and distance were mostly unaffected (R = 0.76 long; R = 0.63\n",
    "short), the correlation between the time lags across tracks was noticeably weakened (R = 0.39;\n",
    "Figure 4c),\"\n",
    "</li><br><li>    \"A robust finding in our study is that time lags between pairs are preserved despite changes to\n",
    "the tuning curves of individual neurons.\" and \"...an important aspect of the present findings is that changes to the firing rate did not affect the timing across neuron pairs.\"\n",
    "</li><br><li>    \"How can firing rate vary without affecting timing?\n",
    "We conjecture that interneurons play a critical role: interneurons can provide a “window of\n",
    "opportunity” during which a postsynaptic neuron may spike.\" and \"A\n",
    "network variant of the single cell model proposed by Mehta et. al (2002), illustrates our\n",
    "hypothesis (Figure 7): through recurrent and feedforward connections, changes in the drive\n",
    "from the leading assembly may modify the timing of interneurons inhibiting the trailing\n",
    "assembly, which in turn establish the time lag.\" \n",
    "</li></ul>\n",
    "</div>"
   ]
  },
  {
   "cell_type": "code",
   "execution_count": null,
   "metadata": {
    "collapsed": true
   },
   "outputs": [],
   "source": []
  }
 ],
 "metadata": {
  "kernelspec": {
   "display_name": "Python 2",
   "language": "python",
   "name": "python2"
  },
  "language_info": {
   "codemirror_mode": {
    "name": "ipython",
    "version": 2
   },
   "file_extension": ".py",
   "mimetype": "text/x-python",
   "name": "python",
   "nbconvert_exporter": "python",
   "pygments_lexer": "ipython2",
   "version": "2.7.11"
  }
 },
 "nbformat": 4,
 "nbformat_minor": 0
}
